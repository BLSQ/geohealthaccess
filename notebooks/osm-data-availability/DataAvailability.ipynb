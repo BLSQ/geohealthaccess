{
 "cells": [
  {
   "cell_type": "markdown",
   "metadata": {},
   "source": [
    "# OSM Data Availability"
   ]
  },
  {
   "cell_type": "code",
   "execution_count": 1,
   "metadata": {},
   "outputs": [],
   "source": [
    "import os\n",
    "import requests\n",
    "import pandas as pd\n",
    "import geopandas as gpd\n",
    "import numpy as np\n",
    "import matplotlib.pyplot as plt\n",
    "import seaborn as sns\n",
    "import subprocess\n",
    "from bs4 import BeautifulSoup\n",
    "%matplotlib inline"
   ]
  },
  {
   "cell_type": "markdown",
   "metadata": {},
   "source": [
    "## Database growth in bytes"
   ]
  },
  {
   "cell_type": "markdown",
   "metadata": {},
   "source": [
    "We scrape the web page `http://download.geofabrik.de/africa.html` to get a list of all the country names."
   ]
  },
  {
   "cell_type": "code",
   "execution_count": 2,
   "metadata": {},
   "outputs": [
    {
     "name": "stdout",
     "output_type": "stream",
     "text": [
      "algeria, angola, benin, botswana, burkina-faso, burundi, cameroon, canary-islands, cape-verde, central-african-republic, chad, comores, congo-brazzaville, congo-democratic-republic, djibouti, egypt, equatorial-guinea, eritrea, ethiopia, gabon, ghana, guinea, guinea-bissau, ivory-coast, kenya, lesotho, liberia, libya, madagascar, malawi, mali, mauritania, mauritius, morocco, mozambique, namibia, niger, nigeria, rwanda, saint-helena-ascension-and-tristan-da-cunha, sao-tome-and-principe, senegal-and-gambia, seychelles, sierra-leone, somalia, south-africa, south-sudan, sudan, swaziland, tanzania, togo, tunisia, uganda, zambia, zimbabwe, south-africa-and-lesotho\n"
     ]
    }
   ],
   "source": [
    "html_body = requests.get('http://download.geofabrik.de/africa.html').text\n",
    "soup = BeautifulSoup(html_body, 'html.parser')\n",
    "\n",
    "links = soup.find_all(name='a')\n",
    "country_links = [a.attrs['href'] for a in links if 'latest.osm.pbf' in a.attrs['href']]\n",
    "\n",
    "def _clean_link(href):\n",
    "    \"\"\"Clean URL to return only the country name.\"\"\"\n",
    "    href = href.replace('africa/', '')\n",
    "    href = href.replace('-latest.osm.pbf', '')\n",
    "    href = href.replace('.md5', '')\n",
    "    return href\n",
    "\n",
    "countries = list(map(_clean_link, country_links))\n",
    "countries = [country for country in countries if country != 'africa']\n",
    "print(', '.join(countries))"
   ]
  },
  {
   "cell_type": "markdown",
   "metadata": {},
   "source": [
    "Geofabrik keeps an archive of data files for each country since 2014 (see [here](http://download.geofabrik.de/africa/congo-democratic-republic.html#) for DR Congo). We can estimate the quantity of information in the OSM database by reffering to the data file size (in bytes). To do so, we request the `Content-Length` HTTP header for each file."
   ]
  },
  {
   "cell_type": "code",
   "execution_count": 3,
   "metadata": {},
   "outputs": [],
   "source": [
    "def _build_url(continent, country, year):\n",
    "    \"\"\"Build URL to OSM data file.\"\"\"\n",
    "    year = str(year)[-2:]\n",
    "    return 'http://download.geofabrik.de/{}/{}-{}0101.osm.pbf'.format(\n",
    "        continent, country, year)\n",
    "\n",
    "def osm_datasize(continent, country, year):\n",
    "    \"\"\"Get size in MB of the OSM data file for a given continent,\n",
    "    country and year. The file size is fetched from the HTTP headers.\n",
    "    \"\"\"\n",
    "    url = _build_url(continent, country, year)\n",
    "    r = requests.head(url)\n",
    "    if r.status_code == 200:\n",
    "        size = int(r.headers['Content-Length'])\n",
    "        return round(size * 10e-7, 1)\n",
    "    return np.nan"
   ]
  },
  {
   "cell_type": "code",
   "execution_count": 39,
   "metadata": {},
   "outputs": [],
   "source": [
    "dbsizes = pd.DataFrame(index=countries, columns=[2014, 2015, 2016, 2017, 2018, 2019])\n",
    "\n",
    "for country in countries:\n",
    "    for year in dbsizes.columns:\n",
    "        dbsizes.at[(country, year)] = osm_datasize('africa', country, year)"
   ]
  },
  {
   "cell_type": "code",
   "execution_count": 40,
   "metadata": {},
   "outputs": [
    {
     "data": {
      "text/html": [
       "<div>\n",
       "<style scoped>\n",
       "    .dataframe tbody tr th:only-of-type {\n",
       "        vertical-align: middle;\n",
       "    }\n",
       "\n",
       "    .dataframe tbody tr th {\n",
       "        vertical-align: top;\n",
       "    }\n",
       "\n",
       "    .dataframe thead th {\n",
       "        text-align: right;\n",
       "    }\n",
       "</style>\n",
       "<table border=\"1\" class=\"dataframe\">\n",
       "  <thead>\n",
       "    <tr style=\"text-align: right;\">\n",
       "      <th></th>\n",
       "      <th>2014</th>\n",
       "      <th>2015</th>\n",
       "      <th>2016</th>\n",
       "      <th>2017</th>\n",
       "      <th>2018</th>\n",
       "      <th>2019</th>\n",
       "    </tr>\n",
       "  </thead>\n",
       "  <tbody>\n",
       "    <tr>\n",
       "      <th>tanzania</th>\n",
       "      <td>8.6</td>\n",
       "      <td>10.8</td>\n",
       "      <td>37.3</td>\n",
       "      <td>87.3</td>\n",
       "      <td>180.3</td>\n",
       "      <td>345.3</td>\n",
       "    </tr>\n",
       "    <tr>\n",
       "      <th>south-africa-and-lesotho</th>\n",
       "      <td>57.1</td>\n",
       "      <td>82.7</td>\n",
       "      <td>122.4</td>\n",
       "      <td>171.3</td>\n",
       "      <td>211</td>\n",
       "      <td>230.1</td>\n",
       "    </tr>\n",
       "    <tr>\n",
       "      <th>nigeria</th>\n",
       "      <td>11</td>\n",
       "      <td>26.4</td>\n",
       "      <td>38.3</td>\n",
       "      <td>56.1</td>\n",
       "      <td>99.7</td>\n",
       "      <td>171.9</td>\n",
       "    </tr>\n",
       "    <tr>\n",
       "      <th>congo-democratic-republic</th>\n",
       "      <td>31.4</td>\n",
       "      <td>44.6</td>\n",
       "      <td>64.4</td>\n",
       "      <td>75.5</td>\n",
       "      <td>92.6</td>\n",
       "      <td>143.1</td>\n",
       "    </tr>\n",
       "    <tr>\n",
       "      <th>cameroon</th>\n",
       "      <td>23.8</td>\n",
       "      <td>53.1</td>\n",
       "      <td>78.3</td>\n",
       "      <td>111.9</td>\n",
       "      <td>117.1</td>\n",
       "      <td>132.7</td>\n",
       "    </tr>\n",
       "  </tbody>\n",
       "</table>\n",
       "</div>"
      ],
      "text/plain": [
       "                           2014  2015   2016   2017   2018   2019\n",
       "tanzania                    8.6  10.8   37.3   87.3  180.3  345.3\n",
       "south-africa-and-lesotho   57.1  82.7  122.4  171.3    211  230.1\n",
       "nigeria                      11  26.4   38.3   56.1   99.7  171.9\n",
       "congo-democratic-republic  31.4  44.6   64.4   75.5   92.6  143.1\n",
       "cameroon                   23.8  53.1   78.3  111.9  117.1  132.7"
      ]
     },
     "execution_count": 40,
     "metadata": {},
     "output_type": "execute_result"
    }
   ],
   "source": [
    "dbsizes.sort_values(by=2019, ascending=False).head()"
   ]
  },
  {
   "cell_type": "code",
   "execution_count": 41,
   "metadata": {},
   "outputs": [
    {
     "data": {
      "text/plain": [
       "Index(['algeria', 'angola', 'benin', 'botswana', 'burkina-faso', 'burundi',\n",
       "       'cameroon', 'canary-islands', 'cape-verde', 'central-african-republic',\n",
       "       'chad', 'comores', 'congo-brazzaville', 'congo-democratic-republic',\n",
       "       'djibouti', 'egypt', 'equatorial-guinea', 'eritrea', 'ethiopia',\n",
       "       'gabon', 'ghana', 'guinea', 'guinea-bissau', 'ivory-coast', 'kenya',\n",
       "       'lesotho', 'liberia', 'libya', 'madagascar', 'malawi', 'mali',\n",
       "       'mauritania', 'mauritius', 'morocco', 'mozambique', 'namibia', 'niger',\n",
       "       'nigeria', 'rwanda', 'saint-helena-ascension-and-tristan-da-cunha',\n",
       "       'sao-tome-and-principe', 'senegal-and-gambia', 'seychelles',\n",
       "       'sierra-leone', 'somalia', 'south-africa', 'south-sudan', 'sudan',\n",
       "       'swaziland', 'tanzania', 'togo', 'tunisia', 'uganda', 'zambia',\n",
       "       'zimbabwe', 'south-africa-and-lesotho'],\n",
       "      dtype='object')"
      ]
     },
     "execution_count": 41,
     "metadata": {},
     "output_type": "execute_result"
    }
   ],
   "source": [
    "dbsizes.index"
   ]
  },
  {
   "cell_type": "markdown",
   "metadata": {},
   "source": [
    "### Compared to population"
   ]
  },
  {
   "cell_type": "markdown",
   "metadata": {},
   "source": [
    "We can compare DB sizes with population estimates to have a better idea of data coverage. Here we use population estimates from the [World Population Prospects](https://population.un.org/wpp/Download/Standard/Population/)."
   ]
  },
  {
   "cell_type": "code",
   "execution_count": 42,
   "metadata": {},
   "outputs": [],
   "source": [
    "wpp = pd.read_csv('data/WPP2015.csv', index_col='Country')"
   ]
  },
  {
   "cell_type": "code",
   "execution_count": 44,
   "metadata": {},
   "outputs": [],
   "source": [
    "# Harmonize country names\n",
    "\n",
    "COUNTRIES = {}\n",
    "\n",
    "for country in dbsizes.index:\n",
    "    # Try with uppercase\n",
    "    country_formatted = country.title()\n",
    "    if country_formatted in population.index:\n",
    "        COUNTRIES[country] = country_formatted\n",
    "        continue\n",
    "    # Try without hyphens\n",
    "    country_formatted = country_formatted.replace('-', ' ')\n",
    "    if country_formatted in population.index:\n",
    "        COUNTRIES[country] = country_formatted\n",
    "        \n",
    "COUNTRIES.update({\n",
    "    'cape-verde': 'Cabo Verde',\n",
    "    'comores': 'Comoros',\n",
    "    'ivory-coast': \"Côte d'Ivoire\",\n",
    "    'congo-brazzaville': 'Congo',\n",
    "    'congo-democratic-republic': 'Democratic Republic of the Congo',\n",
    "    'sao-tome-and-principe': 'Sao Tome and Principe',\n",
    "    'tanzania': 'United Republic of Tanzania',\n",
    "    'senegal-and-gambia': 'Senegal and Gambia'\n",
    "})"
   ]
  },
  {
   "cell_type": "code",
   "execution_count": 64,
   "metadata": {},
   "outputs": [],
   "source": [
    "# Drop nodata countries\n",
    "dbsizes_pop = dbsizes.copy()\n",
    "dbsizes_pop = dbsizes_pop.drop(index=[country for country in dbsizes.index if country not in COUNTRIES])\n",
    "dbsizes_pop = dbsizes_pop.drop(columns=[2014, 2015, 2016])\n",
    "dbsizes_pop.columns = ['DB2017', 'DB2018', 'DB2019']\n",
    "dbsizes_pop['POP2015'] = None"
   ]
  },
  {
   "cell_type": "code",
   "execution_count": 69,
   "metadata": {},
   "outputs": [],
   "source": [
    "for country, country_un in COUNTRIES.items():\n",
    "    # Dealing with the \"senegal and gambia\" group\n",
    "    if country == 'senegal-and-gambia':\n",
    "        pop = wpp.at[('Senegal', 'Population')] + wpp.at[('Gambia', 'Population')]\n",
    "    else:\n",
    "        pop = wpp.at[(country_un, 'Population')]\n",
    "    dbsizes_pop.at[(country), 'POP2015'] = pop\n",
    "\n",
    "# Update indexes\n",
    "dbsizes_pop.index = [COUNTRIES[country] for country in dbsizes_pop.index]"
   ]
  },
  {
   "cell_type": "markdown",
   "metadata": {},
   "source": [
    "Megabytes per million people:"
   ]
  },
  {
   "cell_type": "code",
   "execution_count": 76,
   "metadata": {},
   "outputs": [],
   "source": [
    "dbsizes_pop['DBPOP2017'] = dbsizes_pop.DB2017 / (dbsizes_pop.POP2015 * 10e-4)\n",
    "dbsizes_pop['DBPOP2018'] = dbsizes_pop.DB2018 / (dbsizes_pop.POP2015 * 10e-4)\n",
    "dbsizes_pop['DBPOP2019'] = dbsizes_pop.DB2019 / (dbsizes_pop.POP2015 * 10e-4)"
   ]
  },
  {
   "cell_type": "code",
   "execution_count": 79,
   "metadata": {},
   "outputs": [
    {
     "data": {
      "text/plain": [
       "Lesotho                              49.3414\n",
       "Seychelles                           21.3352\n",
       "Botswana                             21.0484\n",
       "Swaziland                            16.6792\n",
       "Cabo Verde                           11.2589\n",
       "Namibia                              9.85339\n",
       "Zimbabwe                             8.15087\n",
       "United Republic of Tanzania          6.40869\n",
       "Zambia                                 6.124\n",
       "Cameroon                             5.81138\n",
       "Central African Republic             5.74118\n",
       "Liberia                              5.71159\n",
       "South Sudan                          5.42832\n",
       "Guinea                               4.77193\n",
       "Sierra Leone                         4.40789\n",
       "Mali                                 4.22489\n",
       "Mozambique                           4.08772\n",
       "Malawi                               3.93772\n",
       "Togo                                 3.91004\n",
       "Mauritius                            3.89057\n",
       "Guinea-Bissau                        3.61474\n",
       "Gabon                                3.57481\n",
       "Uganda                               3.13863\n",
       "Sao Tome and Principe                3.06822\n",
       "Chad                                 2.96943\n",
       "Morocco                              2.87042\n",
       "Mauritania                           2.77357\n",
       "Comoros                              2.70123\n",
       "Madagascar                           2.66979\n",
       "Congo                                 2.6423\n",
       "Benin                                2.63806\n",
       "Senegal and Gambia                   2.60107\n",
       "Tunisia                              2.48367\n",
       "South Africa                         2.26437\n",
       "Libya                                2.26144\n",
       "Burkina Faso                         2.17552\n",
       "Algeria                              1.92117\n",
       "Democratic Republic of the Congo     1.87804\n",
       "Djibouti                             1.72523\n",
       "Equatorial Guinea                    1.53141\n",
       "Somalia                              1.52429\n",
       "Niger                                 1.4173\n",
       "Ghana                                1.41392\n",
       "Angola                               1.31733\n",
       "Kenya                                1.29138\n",
       "Côte d'Ivoire                        1.28957\n",
       "Rwanda                               1.16084\n",
       "Burundi                              1.11773\n",
       "Eritrea                              1.01094\n",
       "Nigeria                             0.948771\n",
       "Sudan                                0.81764\n",
       "Ethiopia                            0.460585\n",
       "Egypt                               0.414809\n",
       "Name: DBPOP2019, dtype: object"
      ]
     },
     "execution_count": 79,
     "metadata": {},
     "output_type": "execute_result"
    }
   ],
   "source": [
    "dbsizes_pop.sort_values(by='DBPOP2019', ascending=False).DBPOP2019"
   ]
  },
  {
   "cell_type": "markdown",
   "metadata": {},
   "source": [
    "### Compared to country size"
   ]
  },
  {
   "cell_type": "markdown",
   "metadata": {},
   "source": [
    "https://github.com/datasets/geo-countries/raw/master/data/countries.geojson"
   ]
  },
  {
   "cell_type": "code",
   "execution_count": 80,
   "metadata": {},
   "outputs": [
    {
     "name": "stdout",
     "output_type": "stream",
     "text": [
      "--2019-05-16 17:36:49--  https://github.com/datasets/geo-countries/raw/master/data/countries.geojson\n",
      "Resolving github.com (github.com)... 140.82.118.4\n",
      "Connecting to github.com (github.com)|140.82.118.4|:443... connected.\n",
      "HTTP request sent, awaiting response... 302 Found\n",
      "Location: https://raw.githubusercontent.com/datasets/geo-countries/master/data/countries.geojson [following]\n",
      "--2019-05-16 17:36:50--  https://raw.githubusercontent.com/datasets/geo-countries/master/data/countries.geojson\n",
      "Resolving raw.githubusercontent.com (raw.githubusercontent.com)... 151.101.36.133\n",
      "Connecting to raw.githubusercontent.com (raw.githubusercontent.com)|151.101.36.133|:443... connected.\n",
      "HTTP request sent, awaiting response... 200 OK\n",
      "Length: 24090863 (23M) [text/plain]\n",
      "Saving to: ‘countries.geojson’\n",
      "\n",
      "countries.geojson   100%[===================>]  22.97M  8.84MB/s    in 2.6s    \n",
      "\n",
      "2019-05-16 17:36:54 (8.84 MB/s) - ‘countries.geojson’ saved [24090863/24090863]\n",
      "\n"
     ]
    }
   ],
   "source": [
    "!wget -nc https://github.com/datasets/geo-countries/raw/master/data/countries.geojson"
   ]
  },
  {
   "cell_type": "code",
   "execution_count": 152,
   "metadata": {},
   "outputs": [],
   "source": [
    "countries_geom = gpd.read_file('countries.geojson')\n",
    "countries_geom.set_index(countries_geom.ADMIN, inplace=True)\n",
    "countries_geom.drop(columns=['ADMIN', 'ISO_A3'], inplace=True)"
   ]
  },
  {
   "cell_type": "code",
   "execution_count": 164,
   "metadata": {},
   "outputs": [],
   "source": [
    "dbsizes_geom = dbsizes_pop.copy()\n",
    "dbsizes_geom['geometry'] = None"
   ]
  },
  {
   "cell_type": "code",
   "execution_count": 165,
   "metadata": {},
   "outputs": [],
   "source": [
    "for country in dbsizes_pop.index:\n",
    "    if country in countries_geom.index:\n",
    "        dbsizes_geom.at[(country, 'geometry')] = countries_geom.at[(country, 'geometry')]\n",
    "    # Edge cases\n",
    "    elif country == 'Cabo Verde':\n",
    "        dbsizes_geom.at[(country, 'geometry')] = countries_geom.at[('Cape Verde', 'geometry')]\n",
    "    elif country == 'Congo':\n",
    "        dbsizes_geom.at[(country, 'geometry')] = countries_geom.at[('Republic of Congo', 'geometry')]\n",
    "    elif country == 'Côte d\\'Ivoire':\n",
    "        dbsizes_geom.at[(country, 'geometry')] = countries_geom.at[('Ivory Coast', 'geometry')]\n",
    "    elif country == 'Guinea-Bissau':\n",
    "        dbsizes_geom.at[(country, 'geometry')] = countries_geom.at[('Guinea Bissau', 'geometry')]\n",
    "    elif country == 'Senegal and Gambia':\n",
    "        senegal = countries_geom.at[('Senegal', 'geometry')]\n",
    "        gambia = countries_geom.at[('Gambia', 'geometry')]\n",
    "        dbsizes_geom.at[(country, 'geometry')] = senegal.union(gambia)"
   ]
  },
  {
   "cell_type": "code",
   "execution_count": 166,
   "metadata": {},
   "outputs": [],
   "source": [
    "from fiona import crs"
   ]
  },
  {
   "cell_type": "code",
   "execution_count": 167,
   "metadata": {},
   "outputs": [],
   "source": [
    "africa_equal_area = crs.from_string(\"+proj=aea +lat_1=20 +lat_2=-23 +lat_0=0 +lon_0=25 +x_0=0 +y_0=0 +ellps=WGS84 +datum=WGS84 +units=m no_defs\")"
   ]
  },
  {
   "cell_type": "code",
   "execution_count": 168,
   "metadata": {},
   "outputs": [],
   "source": [
    "dbsizes_geom = gpd.GeoDataFrame(dbsizes_geom)\n",
    "dbsizes_geom.crs = crs.from_epsg(4326)\n",
    "dbsizes_geom.to_crs(crs=africa_equal_area, inplace=True)\n",
    "dbsizes_geom['surface'] = dbsizes_geom.geometry.apply(lambda x: x.area) * 1e-6\n",
    "dbsizes_geom['DENSITY2017'] = dbsizes_geom.DB2017 / dbsizes_geom.surface * 1e6\n",
    "dbsizes_geom['DENSITY2018'] = dbsizes_geom.DB2018 / dbsizes_geom.surface * 1e6\n",
    "dbsizes_geom['DENSITY2019'] = dbsizes_geom.DB2019 / dbsizes_geom.surface * 1e6"
   ]
  },
  {
   "cell_type": "markdown",
   "metadata": {},
   "source": [
    "Bytes per sq. km:"
   ]
  },
  {
   "cell_type": "code",
   "execution_count": 173,
   "metadata": {},
   "outputs": [
    {
     "data": {
      "text/plain": [
       "Seychelles                          4590.69\n",
       "Lesotho                             3564.02\n",
       "Mauritius                           2432.45\n",
       "Cabo Verde                          1545.14\n",
       "Swaziland                           1285.65\n",
       "Comoros                             1255.81\n",
       "Malawi                              579.575\n",
       "Sao Tome and Principe               578.505\n",
       "Rwanda                               533.49\n",
       "Uganda                              520.977\n",
       "Togo                                509.994\n",
       "Sierra Leone                        445.459\n",
       "Burundi                             421.578\n",
       "United Republic of Tanzania         366.753\n",
       "Zimbabwe                            330.304\n",
       "Cameroon                            285.795\n",
       "Liberia                              269.68\n",
       "Benin                               240.282\n",
       "Guinea                              236.183\n",
       "Senegal and Gambia                  213.326\n",
       "Guinea-Bissau                       194.949\n",
       "Nigeria                             189.422\n",
       "Tunisia                             178.785\n",
       "Morocco                             168.823\n",
       "Ghana                               163.406\n",
       "Mozambique                          145.222\n",
       "Burkina Faso                        144.445\n",
       "Zambia                              131.132\n",
       "Madagascar                           109.11\n",
       "Kenya                               104.148\n",
       "South Sudan                         102.894\n",
       "South Africa                        102.638\n",
       "Côte d'Ivoire                       92.9283\n",
       "Botswana                            80.3068\n",
       "Djibouti                            73.2332\n",
       "Equatorial Guinea                   67.4874\n",
       "Democratic Republic of the Congo     61.542\n",
       "Mali                                58.9117\n",
       "Somalia                             44.9328\n",
       "Central African Republic            42.2341\n",
       "Ethiopia                            40.8028\n",
       "Eritrea                             39.9876\n",
       "Egypt                               38.8581\n",
       "Congo                               38.2732\n",
       "Algeria                             33.1766\n",
       "Chad                                32.8521\n",
       "Angola                              29.4861\n",
       "Namibia                             29.0502\n",
       "Gabon                               26.5417\n",
       "Niger                               23.8719\n",
       "Sudan                               17.0108\n",
       "Mauritania                          11.1927\n",
       "Libya                               8.68356\n",
       "Name: DENSITY2019, dtype: object"
      ]
     },
     "execution_count": 173,
     "metadata": {},
     "output_type": "execute_result"
    }
   ],
   "source": [
    "dbsizes_geom.DENSITY2019.sort_values(ascending=False)"
   ]
  },
  {
   "cell_type": "markdown",
   "metadata": {},
   "source": [
    "## Road network"
   ]
  },
  {
   "cell_type": "markdown",
   "metadata": {},
   "source": [
    "### Importing OSM data into PostGIS"
   ]
  },
  {
   "cell_type": "markdown",
   "metadata": {},
   "source": [
    "To analyze OSM road networks, OSM data must be downloaded and imported into a PostGIS database. We download 6 different snapshots (~8GB) from geofabrik in order to conduct a multi-temporal analysis."
   ]
  },
  {
   "cell_type": "code",
   "execution_count": null,
   "metadata": {},
   "outputs": [],
   "source": []
  }
 ],
 "metadata": {
  "kernelspec": {
   "display_name": "Python 3",
   "language": "python",
   "name": "python3"
  },
  "language_info": {
   "codemirror_mode": {
    "name": "ipython",
    "version": 3
   },
   "file_extension": ".py",
   "mimetype": "text/x-python",
   "name": "python",
   "nbconvert_exporter": "python",
   "pygments_lexer": "ipython3",
   "version": "3.7.3"
  }
 },
 "nbformat": 4,
 "nbformat_minor": 2
}
